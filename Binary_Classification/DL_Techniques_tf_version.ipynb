{
 "cells": [
  {
   "cell_type": "code",
   "execution_count": 5,
   "metadata": {},
   "outputs": [],
   "source": [
    "import tensorflow as tf\n",
    "from tensorflow import keras\n",
    "from tensorflow.keras import layers\n",
    "from sklearn.model_selection import train_test_split\n",
    "import os\n",
    "import cv2\n",
    "import numpy as np"
   ]
  },
  {
   "cell_type": "code",
   "execution_count": 2,
   "metadata": {},
   "outputs": [
    {
     "name": "stdout",
     "output_type": "stream",
     "text": [
      "1\n"
     ]
    },
    {
     "name": "stderr",
     "output_type": "stream",
     "text": [
      "2025-03-01 22:19:03.754576: I tensorflow/compiler/xla/stream_executor/cuda/cuda_gpu_executor.cc:995] successful NUMA node read from SysFS had negative value (-1), but there must be at least one NUMA node, so returning NUMA node zero. See more at https://github.com/torvalds/linux/blob/v6.0/Documentation/ABI/testing/sysfs-bus-pci#L344-L355\n",
      "2025-03-01 22:19:03.865110: I tensorflow/compiler/xla/stream_executor/cuda/cuda_gpu_executor.cc:995] successful NUMA node read from SysFS had negative value (-1), but there must be at least one NUMA node, so returning NUMA node zero. See more at https://github.com/torvalds/linux/blob/v6.0/Documentation/ABI/testing/sysfs-bus-pci#L344-L355\n",
      "2025-03-01 22:19:03.865449: I tensorflow/compiler/xla/stream_executor/cuda/cuda_gpu_executor.cc:995] successful NUMA node read from SysFS had negative value (-1), but there must be at least one NUMA node, so returning NUMA node zero. See more at https://github.com/torvalds/linux/blob/v6.0/Documentation/ABI/testing/sysfs-bus-pci#L344-L355\n"
     ]
    }
   ],
   "source": [
    "num_gpus = len(tf.config.list_physical_devices('GPU'))\n",
    "print(num_gpus)"
   ]
  },
  {
   "cell_type": "code",
   "execution_count": 4,
   "metadata": {},
   "outputs": [],
   "source": [
    "# Hyper-parameters\n",
    "resized_width, resized_hieght = 64, 64\n"
   ]
  },
  {
   "cell_type": "code",
   "execution_count": 6,
   "metadata": {},
   "outputs": [],
   "source": [
    "# Load Dataset\n",
    "def load_images_from_folder(folder, label):\n",
    "    images = []\n",
    "    labels = []\n",
    "    for filename in os.listdir(folder):\n",
    "        img_path = os.path.join(folder, filename)\n",
    "        img = cv2.imread(img_path)\n",
    "        if img is not None:\n",
    "            # Resize to a fixed size\n",
    "            img = cv2.resize(img, (resized_width, resized_hieght))  \n",
    "            images.append(img)\n",
    "            labels.append(label)\n",
    "    return images, labels\n",
    "\n",
    "# Define Paths\n",
    "mask_folder = \"../data/with_mask_without_mask_classification/with_mask\"\n",
    "no_mask_folder = \"../data/with_mask_without_mask_classification/without_mask\"\n",
    "\n",
    "# Load Images\n",
    "mask_images, mask_labels = load_images_from_folder(mask_folder, 1)\n",
    "no_mask_images, no_mask_labels = load_images_from_folder(no_mask_folder, 0)"
   ]
  },
  {
   "cell_type": "code",
   "execution_count": 7,
   "metadata": {},
   "outputs": [],
   "source": [
    "# Combine Data\n",
    "X = np.array(mask_images + no_mask_images)\n",
    "y = np.array(mask_labels + no_mask_labels)\n",
    "\n",
    "# Convert to grayscale for feature extraction\n",
    "X_gray = np.array([cv2.cvtColor(img, cv2.COLOR_BGR2GRAY) for img in X])"
   ]
  },
  {
   "cell_type": "code",
   "execution_count": 8,
   "metadata": {},
   "outputs": [],
   "source": [
    "# Normalize Images\n",
    "X_norm = X.astype(\"float32\") / 255.0  # Scale pixel values to [0, 1]\n",
    "\n",
    "# Train-Test Split\n",
    "X_train, X_test, y_train, y_test = train_test_split(X_norm, y, test_size=0.2, random_state=42)\n"
   ]
  },
  {
   "cell_type": "code",
   "execution_count": 9,
   "metadata": {},
   "outputs": [
    {
     "name": "stderr",
     "output_type": "stream",
     "text": [
      "2025-03-01 22:49:45.019294: I tensorflow/compiler/xla/stream_executor/cuda/cuda_gpu_executor.cc:995] successful NUMA node read from SysFS had negative value (-1), but there must be at least one NUMA node, so returning NUMA node zero. See more at https://github.com/torvalds/linux/blob/v6.0/Documentation/ABI/testing/sysfs-bus-pci#L344-L355\n",
      "2025-03-01 22:49:45.019646: I tensorflow/compiler/xla/stream_executor/cuda/cuda_gpu_executor.cc:995] successful NUMA node read from SysFS had negative value (-1), but there must be at least one NUMA node, so returning NUMA node zero. See more at https://github.com/torvalds/linux/blob/v6.0/Documentation/ABI/testing/sysfs-bus-pci#L344-L355\n",
      "2025-03-01 22:49:45.019891: I tensorflow/compiler/xla/stream_executor/cuda/cuda_gpu_executor.cc:995] successful NUMA node read from SysFS had negative value (-1), but there must be at least one NUMA node, so returning NUMA node zero. See more at https://github.com/torvalds/linux/blob/v6.0/Documentation/ABI/testing/sysfs-bus-pci#L344-L355\n",
      "2025-03-01 22:49:45.123991: I tensorflow/compiler/xla/stream_executor/cuda/cuda_gpu_executor.cc:995] successful NUMA node read from SysFS had negative value (-1), but there must be at least one NUMA node, so returning NUMA node zero. See more at https://github.com/torvalds/linux/blob/v6.0/Documentation/ABI/testing/sysfs-bus-pci#L344-L355\n",
      "2025-03-01 22:49:45.124847: I tensorflow/compiler/xla/stream_executor/cuda/cuda_gpu_executor.cc:995] successful NUMA node read from SysFS had negative value (-1), but there must be at least one NUMA node, so returning NUMA node zero. See more at https://github.com/torvalds/linux/blob/v6.0/Documentation/ABI/testing/sysfs-bus-pci#L344-L355\n",
      "2025-03-01 22:49:45.125144: I tensorflow/compiler/xla/stream_executor/cuda/cuda_gpu_executor.cc:995] successful NUMA node read from SysFS had negative value (-1), but there must be at least one NUMA node, so returning NUMA node zero. See more at https://github.com/torvalds/linux/blob/v6.0/Documentation/ABI/testing/sysfs-bus-pci#L344-L355\n",
      "2025-03-01 22:49:45.125443: I tensorflow/core/common_runtime/gpu/gpu_device.cc:1639] Created device /job:localhost/replica:0/task:0/device:GPU:0 with 6292 MB memory:  -> device: 0, name: NVIDIA GeForce RTX 4060 Laptop GPU, pci bus id: 0000:01:00.0, compute capability: 8.9\n"
     ]
    },
    {
     "name": "stdout",
     "output_type": "stream",
     "text": [
      "Epoch 1/10\n"
     ]
    },
    {
     "name": "stderr",
     "output_type": "stream",
     "text": [
      "2025-03-01 22:49:46.442193: I tensorflow/compiler/xla/stream_executor/cuda/cuda_dnn.cc:432] Loaded cuDNN version 8907\n",
      "2025-03-01 22:49:46.830615: I tensorflow/compiler/xla/stream_executor/cuda/cuda_blas.cc:606] TensorFloat-32 will be used for the matrix multiplication. This will only be logged once.\n",
      "2025-03-01 22:49:46.907114: I tensorflow/compiler/xla/service/service.cc:168] XLA service 0x7f4cd0e7acc0 initialized for platform CUDA (this does not guarantee that XLA will be used). Devices:\n",
      "2025-03-01 22:49:46.907198: I tensorflow/compiler/xla/service/service.cc:176]   StreamExecutor device (0): NVIDIA GeForce RTX 4060 Laptop GPU, Compute Capability 8.9\n",
      "2025-03-01 22:49:46.930736: I tensorflow/compiler/mlir/tensorflow/utils/dump_mlir_util.cc:255] disabling MLIR crash reproducer, set env var `MLIR_CRASH_REPRODUCER_DIRECTORY` to enable.\n",
      "2025-03-01 22:49:47.144662: I ./tensorflow/compiler/jit/device_compiler.h:186] Compiled cluster using XLA!  This line is logged at most once for the lifetime of the process.\n"
     ]
    },
    {
     "name": "stdout",
     "output_type": "stream",
     "text": [
      "35/35 [==============================] - 3s 18ms/step - loss: 0.4442 - accuracy: 0.8015 - val_loss: 0.2497 - val_accuracy: 0.9094\n",
      "Epoch 2/10\n",
      "35/35 [==============================] - 0s 5ms/step - loss: 0.2067 - accuracy: 0.9229 - val_loss: 0.3477 - val_accuracy: 0.8804\n",
      "Epoch 3/10\n",
      "35/35 [==============================] - 0s 6ms/step - loss: 0.2116 - accuracy: 0.9284 - val_loss: 0.1587 - val_accuracy: 0.9384\n",
      "Epoch 4/10\n",
      "35/35 [==============================] - 0s 6ms/step - loss: 0.1393 - accuracy: 0.9565 - val_loss: 0.1414 - val_accuracy: 0.9601\n",
      "Epoch 5/10\n",
      "35/35 [==============================] - 0s 6ms/step - loss: 0.1545 - accuracy: 0.9538 - val_loss: 0.1349 - val_accuracy: 0.9529\n",
      "Epoch 6/10\n",
      "35/35 [==============================] - 0s 6ms/step - loss: 0.1272 - accuracy: 0.9619 - val_loss: 0.0823 - val_accuracy: 0.9819\n",
      "Epoch 7/10\n",
      "35/35 [==============================] - 0s 6ms/step - loss: 0.1111 - accuracy: 0.9646 - val_loss: 0.0747 - val_accuracy: 0.9746\n",
      "Epoch 8/10\n",
      "35/35 [==============================] - 0s 6ms/step - loss: 0.1164 - accuracy: 0.9637 - val_loss: 0.1208 - val_accuracy: 0.9601\n",
      "Epoch 9/10\n",
      "35/35 [==============================] - 0s 6ms/step - loss: 0.0718 - accuracy: 0.9764 - val_loss: 0.0641 - val_accuracy: 0.9891\n",
      "Epoch 10/10\n",
      "35/35 [==============================] - 0s 6ms/step - loss: 0.0902 - accuracy: 0.9701 - val_loss: 0.0909 - val_accuracy: 0.9674\n",
      "9/9 [==============================] - 0s 3ms/step - loss: 0.0909 - accuracy: 0.9674\n",
      "CNN Accuracy: 0.97\n"
     ]
    }
   ],
   "source": [
    "# Normalize Images\n",
    "X_norm = X.astype(\"float32\") / 255.0  # Scale pixel values to [0, 1]\n",
    "\n",
    "# Train-Test Split\n",
    "X_train, X_test, y_train, y_test = train_test_split(X_norm, y, test_size=0.2, random_state=42)\n",
    "\n",
    "# CNN Model\n",
    "model = keras.Sequential([\n",
    "    layers.Conv2D(32, (3, 3), activation='relu', input_shape=(64, 64, 3)),\n",
    "    layers.MaxPooling2D((2, 2)),\n",
    "    layers.Conv2D(64, (3, 3), activation='relu'),\n",
    "    layers.MaxPooling2D((2, 2)),\n",
    "    layers.Conv2D(128, (3, 3), activation='relu'),\n",
    "    layers.MaxPooling2D((2, 2)),\n",
    "    layers.Flatten(),\n",
    "    layers.Dense(128, activation='relu'),\n",
    "    layers.Dropout(0.5),\n",
    "    layers.Dense(1, activation='sigmoid')  # Binary classification\n",
    "])\n",
    "\n",
    "# Compile Model\n",
    "model.compile(optimizer='adam', loss='binary_crossentropy', metrics=['accuracy'])\n",
    "\n",
    "# Train Model\n",
    "history = model.fit(X_train, y_train, epochs=10, batch_size=32, validation_data=(X_test, y_test))\n",
    "\n",
    "# Evaluate Model\n",
    "test_loss, test_acc = model.evaluate(X_test, y_test)\n",
    "print(f\"CNN Accuracy: {test_acc:.2f}\")\n"
   ]
  }
 ],
 "metadata": {
  "kernelspec": {
   "display_name": "vision_tf",
   "language": "python",
   "name": "python3"
  },
  "language_info": {
   "codemirror_mode": {
    "name": "ipython",
    "version": 3
   },
   "file_extension": ".py",
   "mimetype": "text/x-python",
   "name": "python",
   "nbconvert_exporter": "python",
   "pygments_lexer": "ipython3",
   "version": "3.8.20"
  }
 },
 "nbformat": 4,
 "nbformat_minor": 2
}
