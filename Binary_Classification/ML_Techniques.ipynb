{
 "cells": [
  {
   "cell_type": "code",
   "execution_count": 1,
   "metadata": {},
   "outputs": [],
   "source": [
    "import os\n",
    "import cv2\n",
    "import numpy as np\n",
    "import matplotlib.pyplot as plt\n",
    "\n",
    "from sklearn.model_selection import train_test_split\n",
    "from sklearn.svm import SVC\n",
    "from sklearn.tree import DecisionTreeClassifier\n",
    "from sklearn.metrics import accuracy_score"
   ]
  },
  {
   "cell_type": "markdown",
   "metadata": {},
   "source": [
    "## What this Program Does\n",
    "\n",
    "< Insert a flow diagram on the entire workflow >\n",
    "\n",
    "< Table about what each combination of Hyper parameters resulted in >\n",
    "\n",
    "1. Loading and preprocessing the dataset.\n",
    "2. Extracting handcrafted features (e.g., color histograms, texture descriptors).\n",
    "3. Training and evaluating ML classifiers (SVM and Decision Tree)."
   ]
  },
  {
   "cell_type": "code",
   "execution_count": null,
   "metadata": {},
   "outputs": [],
   "source": [
    "# Load Dataset\n",
    "def load_images_from_folder(folder, label):\n",
    "    images = []\n",
    "    labels = []\n",
    "    for filename in os.listdir(folder):\n",
    "        img_path = os.path.join(folder, filename)\n",
    "        img = cv2.imread(img_path)\n",
    "        if img is not None:\n",
    "            img = cv2.resize(img, (64, 64))  # Resize to a fixed size\n",
    "            images.append(img)\n",
    "            labels.append(label)\n",
    "    return images, labels\n",
    "\n",
    "# Define Paths\n",
    "mask_folder = \"dataset/with_mask\"\n",
    "no_mask_folder = \"dataset/without_mask\"\n",
    "\n",
    "# Load Images\n",
    "mask_images, mask_labels = load_images_from_folder(mask_folder, 1)\n",
    "no_mask_images, no_mask_labels = load_images_from_folder(no_mask_folder, 0)"
   ]
  },
  {
   "cell_type": "code",
   "execution_count": null,
   "metadata": {},
   "outputs": [],
   "source": [
    "# Combine Data\n",
    "X = np.array(mask_images + no_mask_images)\n",
    "y = np.array(mask_labels + no_mask_labels)\n",
    "\n",
    "# Convert to grayscale for feature extraction\n",
    "X_gray = np.array([cv2.cvtColor(img, cv2.COLOR_BGR2GRAY) for img in X])"
   ]
  },
  {
   "cell_type": "code",
   "execution_count": null,
   "metadata": {},
   "outputs": [],
   "source": [
    "# Extract Features - Histogram of Oriented Gradients (HOG)\n",
    "from skimage.feature import hog\n",
    "\n",
    "def extract_hog_features(images):\n",
    "    features = []\n",
    "    for img in images:\n",
    "        feature, _ = hog(img, orientations=8, pixels_per_cell=(8, 8),\n",
    "                        cells_per_block=(2, 2), visualize=True)\n",
    "        features.append(feature)\n",
    "    return np.array(features)\n",
    "\n",
    "X_features = extract_hog_features(X_gray)\n",
    "\n",
    "# Split Data\n",
    "X_train, X_test, y_train, y_test = train_test_split(X_features, y, test_size=0.2, random_state=42)"
   ]
  },
  {
   "cell_type": "code",
   "execution_count": null,
   "metadata": {},
   "outputs": [],
   "source": [
    "# Train and Evaluate ML Classifiers\n",
    "\n",
    "# SVM Classifier\n",
    "svm_clf = SVC(kernel='linear')\n",
    "svm_clf.fit(X_train, y_train)\n",
    "svm_pred = svm_clf.predict(X_test)\n",
    "svm_acc = accuracy_score(y_test, svm_pred)\n",
    "\n",
    "# Decision Tree Classifier\n",
    "dt_clf = DecisionTreeClassifier()\n",
    "dt_clf.fit(X_train, y_train)\n",
    "dt_pred = dt_clf.predict(X_test)\n",
    "dt_acc = accuracy_score(y_test, dt_pred)\n",
    "\n",
    "print(f\"SVM Accuracy: {svm_acc:.2f}\")\n",
    "print(f\"Decision Tree Accuracy: {dt_acc:.2f}\")"
   ]
  }
 ],
 "metadata": {
  "kernelspec": {
   "display_name": "vision",
   "language": "python",
   "name": "python3"
  },
  "language_info": {
   "codemirror_mode": {
    "name": "ipython",
    "version": 3
   },
   "file_extension": ".py",
   "mimetype": "text/x-python",
   "name": "python",
   "nbconvert_exporter": "python",
   "pygments_lexer": "ipython3",
   "version": "3.13.1"
  }
 },
 "nbformat": 4,
 "nbformat_minor": 2
}
